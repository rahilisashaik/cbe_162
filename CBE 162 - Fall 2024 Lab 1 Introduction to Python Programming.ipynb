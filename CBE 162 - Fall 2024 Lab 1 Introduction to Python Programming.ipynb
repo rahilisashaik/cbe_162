{
 "cells": [
  {
   "cell_type": "markdown",
   "metadata": {
    "id": "Ip1_83y8Gm6D"
   },
   "source": [
    "# CBE 162 - Fall 2024 Lab 1: Introduction to Python Programming\n",
    "Outline\n",
    "* Installing Python and running Jupyter Notebooks\n",
    "* Python basics: basic operations, lists, for/while loops, functions\n",
    "* Numpy arrays\n",
    "* Plotting using Matplotlib\n",
    "\n",
    "\n",
    "This tutorial has been adapted from CBE143 at Berkeley (Spring 2021) and CS288 at Stanford (https://github.com/kuleshov/cs228-material)"
   ]
  },
  {
   "cell_type": "markdown",
   "metadata": {
    "id": "4o-SpgdxqCuI"
   },
   "source": [
    "## What are Jupyter Notebooks?\n",
    "The Jupyter Notebook is an open-source application which may contain live/interactive code (including outputs and plots), rich text, equations, and visualizations."
   ]
  },
  {
   "cell_type": "markdown",
   "metadata": {
    "id": "tVtHciJYsarM"
   },
   "source": [
    "## Installation\n",
    "* This will depend on your operating system and whether you have Python already installed or not. Follow the instructions at: https://jupyter.readthedocs.io/en/latest/install/notebook-classic.html\n",
    "\n",
    "* It is recommended that you use the Anaconda distribution. This will automatically install Python, Jupyter Notebook, and other commonly used packages. Note that we will be using Python 3 (select the most-recent version available through Anaconda).\n",
    "\n",
    "* An alternative is to use Google Colaboratory (https://colab.research.google.com/notebooks/intro.ipynb). This does not require any configuration and gives you access to computing resources provided by Google. It is directly available in your Google Drive under New > More > Google Colaboratory.\n",
    "  * Some keyboard shortcuts may be different than in Jupyter Notebooks, but the syntax and organization are exactly the same. You can even export Google Colaboratory files as Jupyter Notebooks (.ipynb) and run them on Jupyter (or vice versa)."
   ]
  },
  {
   "cell_type": "markdown",
   "metadata": {
    "id": "K4ve6sOEvHV5"
   },
   "source": [
    "## Intro to Jupyter Notebooks\n",
    "* Notebooks are organized in **cells**. The text within\n",
    "each cell will be interpreted based on the type of cell it is.\n",
    "  * Code: Code cells will be executed by the python interpreter as python code. More information\n",
    "on python can be found here: https://docs.python.org/3/library/index.html\n",
    "  * Markdown: Markdown cells will be interpreted by Jupyter and formatted to text.\n",
    "More information on markdown can be found here: https://jupyter-notebook.readthedocs.io/en/stable/examples/Notebook/Working%20With%20Markdown%20Cells.html\n",
    "\n",
    "Some examples below:"
   ]
  },
  {
   "cell_type": "markdown",
   "metadata": {
    "id": "VRMWRcYKwsKi"
   },
   "source": [
    "This is a markdown/text cell."
   ]
  },
  {
   "cell_type": "code",
   "execution_count": 2,
   "metadata": {
    "colab": {
     "base_uri": "https://localhost:8080/"
    },
    "id": "xeE0JAmYqZKv",
    "outputId": "0252fec3-a455-4d0c-e5da-958eca6df2d6"
   },
   "outputs": [
    {
     "name": "stdout",
     "output_type": "stream",
     "text": [
      "This is a code cell\n"
     ]
    }
   ],
   "source": [
    "print('This is a code cell')"
   ]
  },
  {
   "cell_type": "markdown",
   "metadata": {
    "id": "nv_q2NJNxThd"
   },
   "source": [
    "**Useful Shortcuts**\n",
    "* `Enter` to go to edit-mode\n",
    "* `Shift + Enter` to execute the highlighted cell(s) and highlight following cell\n",
    "* In command-mode, `j` or `k` to navigate cells with your keyboard\n",
    "* In command-mode, use `a` to create a cell above\n",
    "* In command-mode, use `b` to create a cell below\n",
    "* In command-mode, use `dd` to delete cell(s)\n",
    "* Select a cell and press 'm' to make it a text cell\n",
    "  \n",
    "**Math Notation**  \n",
    "You can write properly formatted math within Markdown cells using the `$` operators\n",
    "like so:\n",
    "\n",
    "This is an equation within a line $Y = \\sum_{i=1}^N x_i^2$ of text.\n",
    "This is an equation centered in a new line: $$Y = \\sum_{i=1}^N x_i^2$$\n",
    "The above equation comes from surrounding `Y = \\sum_{i=1}^N x_i^2` with `$$` symbols, i.e., `$$Y = \\sum_{i=1}^N x_i^2$$`. One can also align multiple equations using the `align` environment and the `&` character as\n",
    "```\n",
    "\\begin{align}\n",
    "Y & = (x+Z)^2\n",
    "\\\\\n",
    "Z & = Y+5x-\\sqrt{2Y}\n",
    "\\end{align}\n",
    "```\n",
    "which yields\n",
    "\\begin{align}\n",
    "Y &  = (x+Z)^2\n",
    "\\\\\n",
    "Z & = Y+5x-\\sqrt{2Y}\n",
    "\\end{align}\n",
    "Note how the equations align where the `&` symbol is placed.\n",
    "\n",
    "The math is written according to $\\LaTeX$ notation.\n",
    "\n",
    "**Latex Notation**  \n",
    "A very powerful document typesetting language utilized by scientists. More info\n",
    "can be found here: https://www.overleaf.com/learn\n",
    "\n",
    "Here are some quick tips:\n",
    "* Use an underscore `_` character to denote a subcript, e.g. `$x_2$` = $x_2$\n",
    "* Use a carot `^` character to denote a superscript, e.g. `$x^2$` = $x^2$\n",
    "* Use brackets around superscript/subscript to do multiple character superscript/subscript, e.g. `$x^{1+2+3}$` = $x^{1+2+3}$\n",
    "* Use a backslash character to denote symbols, e.g. `$\\alpha$` = $\\alpha$, `$\\beta^2$` = $\\beta^2$\n",
    "* Some more useful symbols: `$\\sum$` = $\\sum$, `$\\int$` = $\\int$, `$\\frac{1}{2}$` = $\\frac{1}{2}$\n",
    "\n",
    "Use latex for any equations you write to make them more legible!\n",
    "\n",
    "Last tip, in the Jupyter toolbar above there is a \"Kernel\" tab. In that tab, there is an\n",
    "option to \"Restart Kernel and Run All Cells...\". Use this feature to verify that your\n",
    "notebook will work as expected from start to finish. Before submitting any assignments make\n",
    "sure you run it through the \"Restart Kernel and Run All Cells...\" test. \n"
   ]
  },
  {
   "cell_type": "markdown",
   "metadata": {
    "id": "XrlpW4yI0i9t"
   },
   "source": [
    "## Importing Libraries/Packages to Environment\n",
    "* Unlike MATLAB, Python needs to know if it needs to access code that is not included in the Python standard library (https://docs.python.org/3/library/)\n",
    "* One reason that Python is so versatile is that there exist libraries/packages for a vast array of different purposes. Finding the right one to use can be an art in itself!\n",
    "* Use the `import` keyword to import libraries/packages using the syntax `import name_of_library *as* name_you_assign`. Some of the most-widely used libraries are given below:"
   ]
  },
  {
   "cell_type": "code",
   "execution_count": 3,
   "metadata": {
    "id": "opovoShvw5TY"
   },
   "outputs": [],
   "source": [
    "import numpy as np              # Used for handling arrays/vectors/matrices\n",
    "import matplotlib.pyplot as plt # Used for plotting\n",
    "import pandas as pd             # Used for data"
   ]
  },
  {
   "cell_type": "markdown",
   "metadata": {
    "id": "NpM6JE5s3jZs"
   },
   "source": [
    "## Installing Libraries/Packages\n",
    "* This will typically be outlined in the library documentation. Two of the most common ways are `!conda install library_name` and `!pip install library_name`. The `!` before the command tells the notebook to execute the cell as a shell command.\n",
    "* Google Colaboratory already has most common libraries available"
   ]
  },
  {
   "cell_type": "markdown",
   "metadata": {
    "id": "bhKDBgPXyyK0"
   },
   "source": [
    "## General advice\n",
    "In any programming language, Google is your best friend! More likely than not, someone will have had a similar issue with the one that you are trying to figure out, so a simple Google search will usually resolve the issue."
   ]
  },
  {
   "cell_type": "markdown",
   "metadata": {
    "id": "urgtgtc15s2m"
   },
   "source": [
    "## Python Basics\n",
    "\n",
    "### Basic data types"
   ]
  },
  {
   "cell_type": "code",
   "execution_count": 4,
   "metadata": {
    "colab": {
     "base_uri": "https://localhost:8080/"
    },
    "id": "L1samJS55BaB",
    "outputId": "015852a0-675e-47db-968e-74e78d1c0910"
   },
   "outputs": [
    {
     "name": "stdout",
     "output_type": "stream",
     "text": [
      "3 <class 'int'>\n",
      "-------------\n",
      "3.0 <class 'float'>\n",
      "-------------\n",
      "hello length = 5\n",
      "-------------\n",
      "<class 'bool'>\n",
      "False\n",
      "True\n",
      "False\n"
     ]
    }
   ],
   "source": [
    "# Integers\n",
    "a = 3\n",
    "print(a, type(a))\n",
    "print('-------------')\n",
    "\n",
    "# Float\n",
    "b = 3.0\n",
    "print(b, type(b))\n",
    "print('-------------')\n",
    "\n",
    "# Strings\n",
    "hello = 'hello'   # String literals can use single quotes\n",
    "world = \"world\"   # or double quotes; it does not matter.\n",
    "print(hello, 'length =', len(hello))\n",
    "print('-------------')\n",
    "\n",
    "# Booleans\n",
    "t = True\n",
    "f = False\n",
    "print(type(t))"
   ]
  },
  {
   "cell_type": "markdown",
   "metadata": {
    "id": "iBZecC8P7As7"
   },
   "source": [
    "### Basic Operations"
   ]
  },
  {
   "cell_type": "code",
   "execution_count": 8,
   "metadata": {
    "colab": {
     "base_uri": "https://localhost:8080/"
    },
    "id": "vilt9Kwh6MNw",
    "outputId": "fb1ddd8c-740f-4e83-a7e8-c0fa89c1c2fc"
   },
   "outputs": [
    {
     "name": "stdout",
     "output_type": "stream",
     "text": [
      "5\n",
      "3\n",
      "8\n",
      "16\n",
      "-------------\n",
      "5\n",
      "10\n",
      "-------------\n",
      "False\n",
      "True\n",
      "False\n",
      "True\n",
      "-------------\n",
      "helloworld\n",
      "hello world\n",
      "hello world 12\n"
     ]
    }
   ],
   "source": [
    "x = 4\n",
    "print(x + 1)   # Addition\n",
    "print(x - 1)   # Subtraction\n",
    "print(x * 2)   # Multiplication\n",
    "print(x ** 2)  # Exponentiation\n",
    "print('-------------')\n",
    "\n",
    "x += 1    # x = x+1 \n",
    "print(x)\n",
    "x *= 2    # x = x*2\n",
    "print(x) \n",
    "print('-------------')\n",
    "\n",
    "# Logic operations\n",
    "print(t and f) # Logical AND;\n",
    "print(t or f)  # Logical OR;\n",
    "print(not t)   # Logical NOT;\n",
    "print(t != f)  # Logical XOR;\n",
    "print('-------------')\n",
    "\n",
    "# String concatenation\n",
    "hw = hello + world\n",
    "print(hw)\n",
    "hw = hello + ' ' + world\n",
    "print(hw)\n",
    "\n",
    "# String formatting\n",
    "hw12 = '%s %s %d' % (hello, world, 12)  # sprintf style string formatting, %s for string, %d for floats\n",
    "print(hw12)"
   ]
  },
  {
   "cell_type": "markdown",
   "metadata": {
    "id": "SevQqZRW-2-o"
   },
   "source": [
    "## Lists\n",
    "A list is used to store multiple objects. A list is the Python equivalent of an array, but is resizeable and can contain elements of different types.\n",
    "\n",
    "**NOTE: Python begins indexing from 0!**"
   ]
  },
  {
   "cell_type": "code",
   "execution_count": 9,
   "metadata": {
    "colab": {
     "base_uri": "https://localhost:8080/"
    },
    "id": "0-Gk0Iad9Y94",
    "outputId": "14af6650-4f55-4dea-a946-a3373aa25ebb"
   },
   "outputs": [
    {
     "name": "stdout",
     "output_type": "stream",
     "text": [
      "<class 'list'>\n",
      "2\n",
      "5\n"
     ]
    }
   ],
   "source": [
    "xs = [3, 1, 2, 5]   # Create a list using square brackets []\n",
    "#Note it is not an array by default, e.g., like in MATLAB, although it contains only numbers here\n",
    "print(type(xs))\n",
    "print(xs[2])      # Indexing starts from 0, NOT 1!\n",
    "print(xs[-1])     # Negative indices count from the end of the list"
   ]
  },
  {
   "cell_type": "code",
   "execution_count": 10,
   "metadata": {
    "colab": {
     "base_uri": "https://localhost:8080/"
    },
    "id": "Z0r95wWr_Bor",
    "outputId": "aadcca7f-9be4-4863-d91b-c176e4e6f5ee"
   },
   "outputs": [
    {
     "name": "stdout",
     "output_type": "stream",
     "text": [
      "[3, 1, 'foo', 5]\n"
     ]
    }
   ],
   "source": [
    "# Lists can contain elements of different types, e.g.,\n",
    "xs[2] = 'foo'    \n",
    "print(xs)"
   ]
  },
  {
   "cell_type": "code",
   "execution_count": 11,
   "metadata": {
    "colab": {
     "base_uri": "https://localhost:8080/"
    },
    "id": "jsU8jYkg_XPy",
    "outputId": "ec876440-11fb-4d60-cbe8-aca4bfe0d14f"
   },
   "outputs": [
    {
     "name": "stdout",
     "output_type": "stream",
     "text": [
      "[3, 1, 'foo', 5, 'bar']\n",
      "bar [3, 1, 'foo', 5]\n"
     ]
    }
   ],
   "source": [
    "# Add a new element to the end of the list\n",
    "xs.append('bar') \n",
    "print(xs)  \n",
    "\n",
    "# Remove and return the last element of the list\n",
    "x = xs.pop()     \n",
    "print(x, xs) "
   ]
  },
  {
   "cell_type": "markdown",
   "metadata": {
    "id": "_eUZGwIh_wWU"
   },
   "source": [
    "## Slicing"
   ]
  },
  {
   "cell_type": "code",
   "execution_count": 14,
   "metadata": {
    "colab": {
     "base_uri": "https://localhost:8080/"
    },
    "id": "wn5doohs_qxG",
    "outputId": "680d5e0a-9bfe-4556-ab94-d0ffca1de89d"
   },
   "outputs": [
    {
     "name": "stdout",
     "output_type": "stream",
     "text": [
      "range(0, 5)\n",
      "[0, 1, 2, 3, 4]\n",
      "[2, 3]\n",
      "[2, 3, 4]\n",
      "[0, 1]\n",
      "[0, 1, 2, 3, 4]\n",
      "[0, 1, 2, 3]\n",
      "[0, 1, 2, 3, 4, 5, 6]\n",
      "[0, 1, -9, -8, 4, 5, 6]\n"
     ]
    }
   ],
   "source": [
    "nums = range(5)      # range is a built-in function that creates a generator of integers\n",
    "print(nums)          # prints a range generator\n",
    "print(list(nums))    # Prints \"[0, 1, 2, 3, 4]\"\n",
    "nums = list(nums)    # Convert range object to a list to perform list slicing\n",
    "print(nums[2:4])     # Get a slice from index 2 to 4 (exclusive); prints \"[2, 3]\"\n",
    "print(nums[2:])      # Get a slice from index 2 to the end; prints \"[2, 3, 4]\"\n",
    "print(nums[:2])      # Get a slice from the start to index 2 (exclusive); prints \"[0, 1]\"\n",
    "print(nums[:])       # Get a slice of the whole list; prints [\"0, 1, 2, 3, 4]\"\n",
    "print(nums[:-1])     # Slice indices can be negative; prints [\"0, 1, 2, 3]\"\n",
    "nums = nums+[5, 6]   # Concatenate the two lists together\n",
    "print(nums)\n",
    "nums[2:4] = [-9, -8] # Assign a new sublist to a slice\n",
    "print(nums)          # Prints \"[0, 1, 8, 9, 4]\""
   ]
  },
  {
   "cell_type": "markdown",
   "metadata": {
    "id": "4ZngRfKFA9ey"
   },
   "source": [
    "## For Loops\n",
    "**Identation is important in Python!!**\n",
    "\n",
    "Notice how the for loop does not have an end keyword."
   ]
  },
  {
   "cell_type": "code",
   "execution_count": 15,
   "metadata": {
    "colab": {
     "base_uri": "https://localhost:8080/"
    },
    "id": "lVeY_244Ao0j",
    "outputId": "19f2b17f-ee49-4312-c569-dd0826792018"
   },
   "outputs": [
    {
     "name": "stdout",
     "output_type": "stream",
     "text": [
      "red\n",
      "green\n",
      "blue\n"
     ]
    }
   ],
   "source": [
    "colors = ['red', 'green', 'blue']\n",
    "for name in colors:\n",
    "  print(name)\n",
    "# No end keyword!"
   ]
  },
  {
   "cell_type": "markdown",
   "metadata": {
    "id": "GdlPLGiwu3R0"
   },
   "source": [
    "If you want access to the index of each element within the body of a loop, use the built-in `enumerate` function:"
   ]
  },
  {
   "cell_type": "code",
   "execution_count": 16,
   "metadata": {
    "colab": {
     "base_uri": "https://localhost:8080/"
    },
    "id": "_CuQp_cFQDFc",
    "outputId": "f2b11d27-b873-4dea-d3d5-b1966f988497"
   },
   "outputs": [
    {
     "name": "stdout",
     "output_type": "stream",
     "text": [
      "#1: red\n",
      "#2: green\n",
      "#3: blue\n"
     ]
    }
   ],
   "source": [
    "colors = ['red', 'green', 'blue']\n",
    "for idx, name in enumerate(colors):\n",
    "  print('#{}: {}'.format(idx+1, name)) #idx+1 because Python starts indexing at 0!"
   ]
  },
  {
   "cell_type": "markdown",
   "metadata": {
    "id": "apYXhzwPvdiO"
   },
   "source": [
    "## While Loops\n",
    "Loop until a condition is satisfied"
   ]
  },
  {
   "cell_type": "code",
   "execution_count": 17,
   "metadata": {
    "colab": {
     "base_uri": "https://localhost:8080/"
    },
    "id": "JdyZkW7vu5hZ",
    "outputId": "9f5d588d-5909-4db2-d89e-996c1add502a"
   },
   "outputs": [
    {
     "name": "stdout",
     "output_type": "stream",
     "text": [
      "32\n"
     ]
    }
   ],
   "source": [
    "# Initialize\n",
    "i = 1\n",
    "\n",
    "while i <=20:\n",
    "  i *= 2\n",
    "print(i)"
   ]
  },
  {
   "cell_type": "markdown",
   "metadata": {
    "id": "nzRff9xsw21J"
   },
   "source": [
    "## List Comprehensions\n",
    "Consider the following code, which computes the square of each element in a list"
   ]
  },
  {
   "cell_type": "code",
   "execution_count": 18,
   "metadata": {
    "colab": {
     "base_uri": "https://localhost:8080/"
    },
    "id": "0d7u0CsYwdkT",
    "outputId": "6f67d0f7-7cea-412e-f68f-1dd5de366774"
   },
   "outputs": [
    {
     "name": "stdout",
     "output_type": "stream",
     "text": [
      "[0, 1, 4, 9, 16]\n"
     ]
    }
   ],
   "source": [
    "nums = [0, 1, 2, 3, 4]\n",
    "squares = [] #empty list\n",
    "for x in nums:\n",
    "    squares.append(x ** 2)\n",
    "print(squares)"
   ]
  },
  {
   "cell_type": "markdown",
   "metadata": {
    "id": "ebu4--3aw8CA"
   },
   "source": [
    "You can simplify the above using list comprehensions, i.e.,"
   ]
  },
  {
   "cell_type": "code",
   "execution_count": 19,
   "metadata": {
    "colab": {
     "base_uri": "https://localhost:8080/"
    },
    "id": "Gn8fSF3sw6dq",
    "outputId": "f2d325dc-434c-4cdb-92ec-536ac735e48c"
   },
   "outputs": [
    {
     "name": "stdout",
     "output_type": "stream",
     "text": [
      "[0, 1, 4, 9, 16]\n"
     ]
    }
   ],
   "source": [
    "nums = [0, 1, 2, 3, 4]\n",
    "squares = [x ** 2 for x in nums]\n",
    "print(squares)"
   ]
  },
  {
   "cell_type": "markdown",
   "metadata": {
    "id": "LxMZkmDzw_zQ"
   },
   "source": [
    "You can also add conditions, e.g.,"
   ]
  },
  {
   "cell_type": "code",
   "execution_count": 20,
   "metadata": {
    "colab": {
     "base_uri": "https://localhost:8080/"
    },
    "id": "mC_a4xnuw9WY",
    "outputId": "e12b2c92-4386-40a3-9c4f-a6cb8cd5ddcc"
   },
   "outputs": [
    {
     "name": "stdout",
     "output_type": "stream",
     "text": [
      "[0, 4, 16]\n"
     ]
    }
   ],
   "source": [
    "nums = [0, 1, 2, 3, 4]\n",
    "even_squares = [x ** 2 for x in nums if x % 2 == 0]\n",
    "print(even_squares)"
   ]
  },
  {
   "cell_type": "markdown",
   "metadata": {
    "id": "xd9TxtfExNnf"
   },
   "source": [
    "## Functions\n",
    "Python functions are defined using the `def` keyword. Similar to loops, identation is important."
   ]
  },
  {
   "cell_type": "code",
   "execution_count": 21,
   "metadata": {
    "colab": {
     "base_uri": "https://localhost:8080/"
    },
    "id": "uA3eC8v5xLsO",
    "outputId": "2edd0cae-5eaa-462e-ecbe-e97681e5ca9b"
   },
   "outputs": [
    {
     "name": "stdout",
     "output_type": "stream",
     "text": [
      "25\n"
     ]
    }
   ],
   "source": [
    "def squared(x):\n",
    "    xSquared = x**2\n",
    "    return xSquared\n",
    "\n",
    "sq = squared(5)\n",
    "print(sq)"
   ]
  },
  {
   "cell_type": "markdown",
   "metadata": {
    "id": "DlKL1TkrxRDo"
   },
   "source": [
    "You can also define functions to take optional arguments by setting their default value when you define the function. If you do not pass that argument, then the default will be used. If you pass a different argument, then that will take the place of the default argument."
   ]
  },
  {
   "cell_type": "code",
   "execution_count": 22,
   "metadata": {
    "colab": {
     "base_uri": "https://localhost:8080/"
    },
    "id": "iA9by1KWxO6K",
    "outputId": "adeff38b-5770-4e6d-936f-1c092b80b66e"
   },
   "outputs": [
    {
     "name": "stdout",
     "output_type": "stream",
     "text": [
      "Hello, Bob!\n",
      "HELLO, FRED!\n"
     ]
    }
   ],
   "source": [
    "def hello(name, loud=False):\n",
    "    if loud==True:\n",
    "        print('HELLO, {}!'.format(name.upper()))\n",
    "    else:\n",
    "        print('Hello, {}!'.format(name))\n",
    "\n",
    "hello('Bob')\n",
    "hello(name = 'Fred', loud = True)"
   ]
  },
  {
   "cell_type": "markdown",
   "metadata": {
    "id": "WccQfHljxU4Q"
   },
   "source": [
    "## Problems\n",
    "Our labs will have problems/exercises for you to complete during our alotted time."
   ]
  },
  {
   "cell_type": "markdown",
   "metadata": {
    "id": "vMAefEy1xWtB"
   },
   "source": [
    "**Problem 1:** Create a function that computes the sum $\\sum_{i=0}^N (a_i^2+b_i^2)$. Test your function for $a=\\{1, 2, 3 \\}$, $b=\\{2, 3, 4\\}$."
   ]
  },
  {
   "cell_type": "code",
   "execution_count": 52,
   "metadata": {
    "id": "91bZAKy1xe5D"
   },
   "outputs": [
    {
     "name": "stdout",
     "output_type": "stream",
     "text": [
      "the answer is: 43\n"
     ]
    }
   ],
   "source": [
    "# a = [1, 2, 3]\n",
    "# b = [2, 3, 4]\n",
    "\n",
    "def sum_of_squares(a, b):\n",
    "    res = 0\n",
    "    for i in range(len(a)):\n",
    "        res += (a[i] ** 2) + (b[i] ** 2)\n",
    "\n",
    "    print(\"the answer is:\", res)\n",
    "\n",
    "sum_of_squares([1, 2, 3],[2, 3, 4])\n"
   ]
  },
  {
   "cell_type": "markdown",
   "metadata": {
    "id": "Lk4dMWx1xcui"
   },
   "source": [
    "**Problem 2:** Create a function that returns a list containing the Fibonacci series up to a given number $N>2$. Test your function for $N=10$. The $i^\\text{th}$ term of the Fibonacci series is defined as $\\{x_i : x_i = x_{i-2}+x_{i-1}\\}$."
   ]
  },
  {
   "cell_type": "code",
   "execution_count": 61,
   "metadata": {
    "id": "IT4JoHl8xaWG"
   },
   "outputs": [
    {
     "name": "stdout",
     "output_type": "stream",
     "text": [
      "0 1 1 2 3 5 8 13 21 34 "
     ]
    }
   ],
   "source": [
    "def fib(N):\n",
    "    a, b = 0, 1\n",
    "    count = 0 \n",
    "    while count < N:\n",
    "        count += 1 \n",
    "        print(a, end=' ')\n",
    "        a, b = b, a+b\n",
    "\n",
    "fib(10)"
   ]
  },
  {
   "cell_type": "markdown",
   "metadata": {
    "id": "r6SrJRSbxgBA"
   },
   "source": [
    "## Numpy\n",
    "Numpy is the core library for scientific computing in Python. It provides a high-performance multidimensional array object, and tools for working with these arrays. To use Numpy, we first need to import the `numpy` package (we typically import all the libraries/packages that we need at the top of the notebook)"
   ]
  },
  {
   "cell_type": "code",
   "execution_count": 32,
   "metadata": {
    "id": "5_npVoJaxeG3"
   },
   "outputs": [],
   "source": [
    "import numpy as np"
   ]
  },
  {
   "cell_type": "markdown",
   "metadata": {
    "id": "ly87lwzXxj_k"
   },
   "source": [
    "### Arrays\n",
    "A numpy array is a grid of values, all of the same type, and is indexed by a tuple of nonnegative integers (i.e., starting at 0). The number of dimensions is the rank of the array. The shape of an array is a tuple of integers giving the size of the array along each dimension."
   ]
  },
  {
   "cell_type": "code",
   "execution_count": 33,
   "metadata": {
    "colab": {
     "base_uri": "https://localhost:8080/"
    },
    "id": "PL6AVCpvxhbI",
    "outputId": "3085804c-9937-4596-899a-47c8888803f6"
   },
   "outputs": [
    {
     "name": "stdout",
     "output_type": "stream",
     "text": [
      "Type of a: <class 'numpy.ndarray'>\n",
      "Shape of a = (3,)\n",
      "Some individual elements: 1 2 3\n",
      "Modified array = [5 2 3]\n",
      "-------------\n",
      "Type of b: <class 'numpy.ndarray'>\n",
      "Shape of b = (2, 3)\n",
      "Entire array =\n",
      " [[1 2 3]\n",
      " [4 5 6]]\n",
      "Some individual elements: 1 2 6\n"
     ]
    }
   ],
   "source": [
    "# Create a rank 1 array\n",
    "a = np.array([1, 2, 3])\n",
    "print('Type of a:', type(a))\n",
    "print('Shape of a =', a.shape)\n",
    "print('Some individual elements:', a[0], a[1], a[2])\n",
    "\n",
    "# Change an element of the array\n",
    "a[0] = 5                 \n",
    "print('Modified array =', a)    \n",
    "print('-------------')    \n",
    "\n",
    "# Create a rank 2 array\n",
    "b = np.array([[1,2,3],[4,5,6]]) \n",
    "print('Type of b:', type(b))\n",
    "print('Shape of b =', b.shape)\n",
    "print('Entire array =\\n', b)\n",
    "print('Some individual elements:', b[0,0], b[0,1], b[1,2])"
   ]
  },
  {
   "cell_type": "markdown",
   "metadata": {
    "id": "h8jwriAexr2Z"
   },
   "source": [
    "You can also define arrays of zeros, ones, empty arrrays, and more. Some examples are listed below."
   ]
  },
  {
   "cell_type": "code",
   "execution_count": 34,
   "metadata": {
    "colab": {
     "base_uri": "https://localhost:8080/"
    },
    "id": "yPKDW16mxlXY",
    "outputId": "44a02660-edb3-4854-eb84-a1a8d341cda4"
   },
   "outputs": [
    {
     "name": "stdout",
     "output_type": "stream",
     "text": [
      "[[0. 0.]\n",
      " [0. 0.]]\n",
      "-------------\n",
      "[[1. 1.]]\n",
      "-------------\n",
      "[[7 7]\n",
      " [7 7]\n",
      " [7 7]]\n",
      "-------------\n",
      "[[1. 0. 0.]\n",
      " [0. 1. 0.]\n",
      " [0. 0. 1.]]\n",
      "-------------\n",
      "[[0.24003451 0.67661597]\n",
      " [0.78024366 0.00595247]]\n"
     ]
    }
   ],
   "source": [
    " # Create an array of zeros\n",
    "zeros = np.zeros((2,2)) \n",
    "print(zeros)\n",
    "print('-------------')\n",
    "\n",
    "# Create an array of ones\n",
    "ones = np.ones((1,2))   \n",
    "print(ones)\n",
    "print('-------------')\n",
    "\n",
    "# Create an array of a given constant\n",
    "c = np.full((3,2), 7) \n",
    "print(c)\n",
    "print('-------------')\n",
    "\n",
    "# Create a 3x3 identity matrix\n",
    "identity = np.eye(3)        \n",
    "print(identity)\n",
    "print('-------------')\n",
    "\n",
    "# Create an array filled with random values\n",
    "randomArray = np.random.random((2,2)) \n",
    "print(randomArray)"
   ]
  },
  {
   "cell_type": "markdown",
   "metadata": {
    "id": "9GbWdTPtxva8"
   },
   "source": [
    "### Array indexing\n",
    "You can index a numpy array in several different ways. Numpy arrays can be sliced, similarrly to Python lists. However, since arrays may be multidimensional, you have to specify a slice for each dimension of the array."
   ]
  },
  {
   "cell_type": "code",
   "execution_count": 38,
   "metadata": {
    "colab": {
     "base_uri": "https://localhost:8080/"
    },
    "id": "neh02izBxtI7",
    "outputId": "39244304-7d0c-4e53-ce72-e370da5908d0"
   },
   "outputs": [
    {
     "name": "stdout",
     "output_type": "stream",
     "text": [
      "[[2 3]\n",
      " [6 7]]\n"
     ]
    }
   ],
   "source": [
    "# Create the following rank 2 array with shape (3, 4)\n",
    "# [[ 1  2  3  4]\n",
    "#  [ 5  6  7  8]\n",
    "#  [ 9 10 11 12]]\n",
    "a = np.array([[1,2,3,4], [5,6,7,8], [9,10,11,12]])\n",
    "\n",
    "# Use slicing to pull out the subarray consisting of the first 2 rows\n",
    "# and columns 1 and 2; b is the following array of shape (2, 2):\n",
    "# [[2 3]\n",
    "#  [6 7]]\n",
    "b = a[0:2, 1:3]\n",
    "print(b)"
   ]
  },
  {
   "cell_type": "markdown",
   "metadata": {
    "id": "FMDn9JVnxybb"
   },
   "source": [
    "**Caution:** A slice of an array is a view into the same data, so modifying it will modify the original array."
   ]
  },
  {
   "cell_type": "code",
   "execution_count": 39,
   "metadata": {
    "colab": {
     "base_uri": "https://localhost:8080/"
    },
    "id": "CalncOE0xwtB",
    "outputId": "ced4c155-9cd8-4b38-8315-7697cd49daeb"
   },
   "outputs": [
    {
     "name": "stdout",
     "output_type": "stream",
     "text": [
      "2\n",
      "[[  1 100   3   4]\n",
      " [  5   6   7   8]\n",
      " [  9  10  11  12]]\n"
     ]
    }
   ],
   "source": [
    "print(a[0, 1])  \n",
    "b[0, 0] = 100    # b[0, 0] is the same piece of data as a[0, 1]\n",
    "print(a)"
   ]
  },
  {
   "cell_type": "markdown",
   "metadata": {
    "id": "33sRPjXBx1Qf"
   },
   "source": [
    "You can also mix integer indexing with slice indexing. However, doing so will yield an array of lower rank than the original array. Mixing integer indexing with slices yields an array of lower rank, while using only slices yields an array of the same rank as the original array. Note that this is quite different from the way that MATLAB handles array slicing.\n",
    "\n"
   ]
  },
  {
   "cell_type": "code",
   "execution_count": 40,
   "metadata": {
    "colab": {
     "base_uri": "https://localhost:8080/"
    },
    "id": "mRWi4iKWxz6g",
    "outputId": "dc9006a7-796f-4d05-b922-fefd7ef65b45"
   },
   "outputs": [
    {
     "name": "stdout",
     "output_type": "stream",
     "text": [
      "[[ 1  2  3  4]\n",
      " [ 5  6  7  8]\n",
      " [ 9 10 11 12]]\n",
      "-------------\n",
      "[5 6 7 8] Shape = (4,)\n",
      "[[5 6 7 8]] Shape = (1, 4)\n",
      "[[5 6 7 8]] Shape = (1, 4)\n",
      "-------------\n",
      "[ 2  6 10] \n",
      "Shape = (3,)\n",
      "[[ 2]\n",
      " [ 6]\n",
      " [10]] \n",
      "Shape = (3, 1)\n",
      "[[ 2]\n",
      " [ 6]\n",
      " [10]] \n",
      "Shape = (3, 1)\n"
     ]
    }
   ],
   "source": [
    "# Restore the original array a\n",
    "a[0,1] = 2\n",
    "print(a)\n",
    "print('-------------')\n",
    "\n",
    "# Extract the middle row using integers, slicing\n",
    "row_r1 = a[1, :]    # Rank 1 view of the second row of a  \n",
    "row_r2 = a[1:2, :]  # Rank 2 view of the second row of a\n",
    "row_r3 = a[[1], :]  # Rank 2 view of the second row of a\n",
    "print(row_r1, 'Shape =', row_r1.shape) \n",
    "print(row_r2, 'Shape =', row_r2.shape)\n",
    "print(row_r3, 'Shape =', row_r3.shape)\n",
    "print('-------------')\n",
    "\n",
    "# Similarly, for columns\n",
    "col_r1 = a[:, 1]\n",
    "col_r2 = a[:, 1:2]\n",
    "col_r2 = a[:, [1]]\n",
    "print(col_r1, '\\nShape =', col_r1.shape)\n",
    "print(col_r2, '\\nShape =', col_r2.shape)\n",
    "print(col_r2, '\\nShape =', col_r2.shape)"
   ]
  },
  {
   "cell_type": "markdown",
   "metadata": {
    "id": "HpENoZGTx5Cp"
   },
   "source": [
    "Boolean array indexing: Frequently this type of indexing is used to select the elements of an array that satisfy some condition. For example,"
   ]
  },
  {
   "cell_type": "code",
   "execution_count": 41,
   "metadata": {
    "colab": {
     "base_uri": "https://localhost:8080/"
    },
    "id": "hpOi4757x2vc",
    "outputId": "10189905-0c4a-40cb-aa8f-533a98085a6e"
   },
   "outputs": [
    {
     "name": "stdout",
     "output_type": "stream",
     "text": [
      "[[False False]\n",
      " [ True  True]\n",
      " [ True  True]]\n",
      "-------------\n",
      "[3 4 5 6]\n",
      "-------------\n",
      "[3 4 5 6]\n"
     ]
    }
   ],
   "source": [
    "# Define some arbitrary array\n",
    "a = np.array([[1,2], [3, 4], [5, 6]])\n",
    "\n",
    "boolIdx = (a > 2)  # Find the elements of a that are greater than 2;\n",
    "                    # this returns a numpy array of Booleans of the same\n",
    "                    # shape as a, where each slot of bool_idx tells\n",
    "                    # whether that element of a is > 2.\n",
    "print(boolIdx)\n",
    "print('-------------')\n",
    "\n",
    "# To obtain the array of values greater than 2 we need to slice a with the indices obtained\n",
    "aGreaterThan2 = a[boolIdx]\n",
    "print(aGreaterThan2)\n",
    "print('-------------')\n",
    "\n",
    "# We can combine the two statements above as\n",
    "aGreaterThan2 = a[a>2]\n",
    "print(aGreaterThan2)"
   ]
  },
  {
   "cell_type": "markdown",
   "metadata": {
    "id": "5OohnUiTx8NK"
   },
   "source": [
    "### Data Types\n",
    "Every numpy array is a grid of elements of the same type. Numpy provides a large set of numeric datatypes that you can use to construct arrays. Numpy tries to guess a datatype when you create an array, but functions that construct arrays usually also include an optional argument to explicitly specify the datatype."
   ]
  },
  {
   "cell_type": "code",
   "execution_count": 42,
   "metadata": {
    "colab": {
     "base_uri": "https://localhost:8080/"
    },
    "id": "JokoXZfWx6Zc",
    "outputId": "ad880de4-ac87-4d4e-ffbe-2b08225c0190"
   },
   "outputs": [
    {
     "name": "stdout",
     "output_type": "stream",
     "text": [
      "int64 float64 int64\n",
      "[1 2]\n",
      "[1. 2.]\n",
      "[1 2]\n"
     ]
    }
   ],
   "source": [
    "x = np.array([1, 2])  # Let numpy choose the datatype\n",
    "y = np.array([1.0, 2.0])  # Let numpy choose the datatype\n",
    "z = np.array([1.1, 2.6], dtype=np.int64)  # Force a particular datatype\n",
    "\n",
    "print(x.dtype, y.dtype, z.dtype)\n",
    "\n",
    "print(x)\n",
    "print(y)\n",
    "print(z) # Note how the decimal points are discarded, \n",
    "         # since we specified the datatype to be integers!"
   ]
  },
  {
   "cell_type": "markdown",
   "metadata": {
    "id": "uzz2T_Rzx_-N"
   },
   "source": [
    "### Array Math\n",
    "Basic mathematical functions operate elementwise on arrays."
   ]
  },
  {
   "cell_type": "code",
   "execution_count": 43,
   "metadata": {
    "colab": {
     "base_uri": "https://localhost:8080/"
    },
    "id": "AeTiGLnSx9Zq",
    "outputId": "f0b55cee-4d54-415d-9e04-df5ab9a4f6c7"
   },
   "outputs": [
    {
     "name": "stdout",
     "output_type": "stream",
     "text": [
      "[[ 6.  8.]\n",
      " [10. 12.]]\n",
      "[[ 6.  8.]\n",
      " [10. 12.]]\n",
      "-------------\n",
      "[[-4. -4.]\n",
      " [-4. -4.]]\n",
      "[[-4. -4.]\n",
      " [-4. -4.]]\n",
      "-------------\n",
      "[[ 5. 12.]\n",
      " [21. 32.]]\n",
      "[[ 5. 12.]\n",
      " [21. 32.]]\n",
      "-------------\n",
      "[[0.2        0.33333333]\n",
      " [0.42857143 0.5       ]]\n",
      "[[0.2        0.33333333]\n",
      " [0.42857143 0.5       ]]\n",
      "-------------\n",
      "[[1.         1.41421356]\n",
      " [1.73205081 2.        ]]\n",
      "-------------\n"
     ]
    }
   ],
   "source": [
    "x = np.array([[1,2],[3,4]], dtype=np.float64)\n",
    "y = np.array([[5,6],[7,8]], dtype=np.float64)\n",
    "\n",
    "# Addition\n",
    "print(x + y)\n",
    "print(np.add(x, y))\n",
    "print('-------------')\n",
    "\n",
    "# Subtraction\n",
    "print(x - y)\n",
    "print(np.subtract(x, y))\n",
    "print('-------------')\n",
    "\n",
    "# Product (Elementwise - NOT matrix multiplication)\n",
    "print(x * y)\n",
    "print(np.multiply(x, y))\n",
    "print('-------------')\n",
    "\n",
    "# Ratio\n",
    "print(x / y)\n",
    "print(np.divide(x, y))\n",
    "print('-------------')\n",
    "\n",
    "# Square Root\n",
    "print(np.sqrt(x))\n",
    "print('-------------')\n",
    "\n"
   ]
  },
  {
   "cell_type": "markdown",
   "metadata": {
    "id": "QoSP-ZB1yDSB"
   },
   "source": [
    "Numpy also already includes many useful functions for performing computations on arrays. One of the most useful is the `sum` function."
   ]
  },
  {
   "cell_type": "code",
   "execution_count": 44,
   "metadata": {
    "colab": {
     "base_uri": "https://localhost:8080/"
    },
    "id": "fVRaJpGNyBQr",
    "outputId": "c90654aa-5a5c-4a1c-fe2a-a8f30ec6d333"
   },
   "outputs": [
    {
     "name": "stdout",
     "output_type": "stream",
     "text": [
      "10\n",
      "[4 6]\n",
      "[3 7]\n"
     ]
    }
   ],
   "source": [
    "x = np.array([[1,2],[3,4]])\n",
    "\n",
    "print(np.sum(x))  # Compute sum of all elements\n",
    "\n",
    "# Axis: the dimension across which you want to perform the operation\n",
    "print(np.sum(x, axis=0))  # Compute sum of each column\n",
    "print(np.sum(x, axis=1))  # Compute sum of each row"
   ]
  },
  {
   "cell_type": "markdown",
   "metadata": {
    "id": "OjO6I1EbyIr5"
   },
   "source": [
    "As we saw above, the `*` operator performs elementwise (rather than matrix) multiplication. We instead use the `dot` function to compute inner products of vectors, to multiply a vector by a matrix, and to multiply matrices. `dot` is available both as a function in the numpy module and as an instance method of array objects."
   ]
  },
  {
   "cell_type": "code",
   "execution_count": 45,
   "metadata": {
    "colab": {
     "base_uri": "https://localhost:8080/"
    },
    "id": "tU0kCmrQyE7O",
    "outputId": "4c6d0cd5-c08a-4fc4-fc1e-1164eabb0a9a"
   },
   "outputs": [
    {
     "name": "stdout",
     "output_type": "stream",
     "text": [
      "219\n",
      "219\n",
      "-------------\n",
      "[29. 67.]\n",
      "[29. 67.]\n",
      "-------------\n",
      "[[19. 22.]\n",
      " [43. 50.]]\n",
      "[[19. 22.]\n",
      " [43. 50.]]\n"
     ]
    }
   ],
   "source": [
    "x = np.array([[1,2],[3,4]], dtype=np.float64)\n",
    "y = np.array([[5,6],[7,8]], dtype=np.float64)\n",
    "v = np.array([9,10])\n",
    "w = np.array([11, 12])\n",
    "\n",
    "# Inner product of vectors\n",
    "print(v.dot(w))\n",
    "print(np.dot(v, w))\n",
    "print('-------------')\n",
    "\n",
    "# Matrix / vector product\n",
    "print(x.dot(v))\n",
    "print(np.dot(x, v))\n",
    "print('-------------')\n",
    "\n",
    "# Matrix / matrix product\n",
    "print(x.dot(y))\n",
    "print(np.dot(x, y))"
   ]
  },
  {
   "cell_type": "markdown",
   "metadata": {
    "id": "j9bnuWuQyLyd"
   },
   "source": [
    "Transposing and reshaping arrays"
   ]
  },
  {
   "cell_type": "code",
   "execution_count": 46,
   "metadata": {
    "colab": {
     "base_uri": "https://localhost:8080/"
    },
    "id": "J2GLeaHKyJ92",
    "outputId": "0a1476b6-bd78-46e1-9665-bc6fa35246a9"
   },
   "outputs": [
    {
     "name": "stdout",
     "output_type": "stream",
     "text": [
      "[[1 2]\n",
      " [3 4]]\n",
      "[[1 3]\n",
      " [2 4]]\n",
      "-------------\n",
      "[[1 2 3 4]]\n",
      "[[1]\n",
      " [2]\n",
      " [3]\n",
      " [4]]\n",
      "-------------\n",
      "[[1 2 3 4]]\n",
      "[[1]\n",
      " [2]\n",
      " [3]\n",
      " [4]]\n",
      "-------------\n",
      "(4,)\n"
     ]
    }
   ],
   "source": [
    "# Transpose\n",
    "x = np.array([[1, 2], [3, 4]])\n",
    "print(x)\n",
    "print(x.T)\n",
    "print('-------------')\n",
    "\n",
    "# Reshape\n",
    "print(x.reshape(1, 4))\n",
    "print(x.reshape(4,1))\n",
    "print('-------------')\n",
    "\n",
    "# Reshape using -1 as a dimension\n",
    "print(x.reshape(1, -1))\n",
    "print(x.reshape(-1, 1))\n",
    "print('-------------')\n",
    "\n",
    "# Reshape to a rank 1 array\n",
    "y = x.reshape(-1,)\n",
    "print(y.shape)"
   ]
  },
  {
   "cell_type": "markdown",
   "metadata": {
    "id": "92ig5e4pyOrJ"
   },
   "source": [
    "### Broadcasting\n",
    "Broadcasting allows numpy to work with arrays of different shapes when performing operations. For example, we may want to use a smaller array multiple times to perform some operation on a larger array.\n",
    "\n",
    "Suppose that we want to add a constant vector to each row of a matrix. We can do this in 3 ways:"
   ]
  },
  {
   "cell_type": "code",
   "execution_count": 47,
   "metadata": {
    "colab": {
     "base_uri": "https://localhost:8080/"
    },
    "id": "CAs4v79HyNHW",
    "outputId": "fece29c6-bb4d-45cf-a9e2-5fe26e5a7f31"
   },
   "outputs": [
    {
     "name": "stdout",
     "output_type": "stream",
     "text": [
      "y =\n",
      " [[ 2  2  4]\n",
      " [ 5  5  7]\n",
      " [ 8  8 10]\n",
      " [11 11 13]]\n",
      "-------------\n",
      "vv =\n",
      " [[1 0 1]\n",
      " [1 0 1]\n",
      " [1 0 1]\n",
      " [1 0 1]]\n",
      "yy =\n",
      " [[ 2  2  4]\n",
      " [ 5  5  7]\n",
      " [ 8  8 10]\n",
      " [11 11 13]]\n",
      "-------------\n",
      "yB =\n",
      " [[ 2  2  4]\n",
      " [ 5  5  7]\n",
      " [ 8  8 10]\n",
      " [11 11 13]]\n"
     ]
    }
   ],
   "source": [
    "# We will add the vector v to each row of the matrix x\n",
    "x = np.array([[1,2,3], [4,5,6], [7,8,9], [10, 11, 12]])\n",
    "v = np.array([1, 0, 1])\n",
    "# Initialize an empty matrix with the same shape as x. \n",
    "# Alternatively, one also initialize a matrix of zeros using np.zeros\n",
    "y = np.empty_like(x)   \n",
    "\n",
    "# Add the vector v to each row of the matrix x with an explicit loop\n",
    "# This approach can be SLOW for large matrices!\n",
    "for i in range(4):\n",
    "    y[i, :] = x[i, :] + v\n",
    "\n",
    "print('y =\\n', y)\n",
    "print('-------------')\n",
    "\n",
    "# Stack 4 copies of v on top of each other\n",
    "vv = np.tile(v, (4, 1))  \n",
    "print('vv =\\n',vv)\n",
    "yy = x + vv\n",
    "print('yy =\\n', yy)\n",
    "print('-------------')\n",
    "\n",
    "# Using numpy broadcasting\n",
    "yB = x + v\n",
    "print('yB =\\n', yB)"
   ]
  },
  {
   "cell_type": "markdown",
   "metadata": {
    "id": "wcRDXMU2yTKQ"
   },
   "source": [
    "`y = x + v` works even though `x` has shape `(4, 3)` and `v` has shape `(3,)` due to broadcasting. For more information about broadcasting, you can refer to the [documentation](http://docs.scipy.org/doc/numpy/user/basics.broadcasting.html).\n",
    "\n",
    "Here are some applications of broadcasting:"
   ]
  },
  {
   "cell_type": "code",
   "execution_count": 48,
   "metadata": {
    "colab": {
     "base_uri": "https://localhost:8080/"
    },
    "id": "gMv-ACffyP_B",
    "outputId": "0186b96e-779c-4dfc-dcbc-9df14333e669"
   },
   "outputs": [
    {
     "name": "stdout",
     "output_type": "stream",
     "text": [
      "[[ 4  5]\n",
      " [ 8 10]\n",
      " [12 15]]\n",
      "-------------\n",
      "[[2 4 6]\n",
      " [5 7 9]]\n",
      "-------------\n",
      "[[ 5  6  7]\n",
      " [ 9 10 11]]\n",
      "-------------\n",
      "[[ 2  4  6]\n",
      " [ 8 10 12]]\n"
     ]
    }
   ],
   "source": [
    "# Compute outer product of vectors\n",
    "v = np.array([1,2,3])  # v has shape (3,)\n",
    "w = np.array([4,5])    # w has shape (2,)\n",
    "# To compute an outer product, we first reshape v to be a column\n",
    "# vector of shape (3, 1); we can then broadcast it against w to yield\n",
    "# an output of shape (3, 2), which is the outer product of v and w:\n",
    "print(np.reshape(v, (3, 1)) * w)\n",
    "print('-------------')\n",
    "\n",
    "# Add a vector to each row of a matrix\n",
    "x = np.array([[1,2,3], [4,5,6]])  # x has shape (2,3)\n",
    "v = np.array([1,2,3])             # v has shape (3,)\n",
    "print(x + v)\n",
    "print('-------------')\n",
    "\n",
    "# Add a vector to each column of a matrix\n",
    "x = np.array([[1,2,3], [4,5,6]])  # x has shape (2,3)\n",
    "w = np.array([4,5])               # w has shape (2,)\n",
    "# x.T has shape (3,2) and can be broadcast with w to yield a result\n",
    "# with shape (3,2). Then we transpose the result to obtain a shape of\n",
    "print((x.T + w).T)\n",
    "print('-------------')\n",
    "\n",
    "# Multiply a matrix by a constant\n",
    "print(x * 2)\n"
   ]
  },
  {
   "cell_type": "markdown",
   "metadata": {
    "id": "B4rzbTdLyXCS"
   },
   "source": [
    "## Plotting Graphs \n",
    "Matplotlib is a plotting library. In this section give a brief introduction to the `matplotlib.pyplot` module, which provides a plotting system similar to that of MATLAB."
   ]
  },
  {
   "cell_type": "code",
   "execution_count": 49,
   "metadata": {
    "id": "ntZr7BmkyVBs"
   },
   "outputs": [],
   "source": [
    "import matplotlib.pyplot as plt\n"
   ]
  },
  {
   "cell_type": "markdown",
   "metadata": {
    "id": "ebSUKklyyaWf"
   },
   "source": [
    "\n",
    "Here is an example of a figure containing subplots"
   ]
  },
  {
   "cell_type": "code",
   "execution_count": 1,
   "metadata": {
    "colab": {
     "base_uri": "https://localhost:8080/",
     "height": 382
    },
    "id": "RMqxLxKXyYuz",
    "outputId": "1049e908-a19f-4151-ed93-1191c5888ade"
   },
   "outputs": [
    {
     "ename": "NameError",
     "evalue": "name 'np' is not defined",
     "output_type": "error",
     "traceback": [
      "\u001b[0;31m---------------------------------------------------------------------------\u001b[0m",
      "\u001b[0;31mNameError\u001b[0m                                 Traceback (most recent call last)",
      "Cell \u001b[0;32mIn[1], line 2\u001b[0m\n\u001b[1;32m      1\u001b[0m \u001b[38;5;66;03m# Compute the x and y coordinates for the points to be plotted\u001b[39;00m\n\u001b[0;32m----> 2\u001b[0m x \u001b[38;5;241m=\u001b[39m \u001b[43mnp\u001b[49m\u001b[38;5;241m.\u001b[39marange(\u001b[38;5;241m0\u001b[39m, \u001b[38;5;241m3\u001b[39m \u001b[38;5;241m*\u001b[39m np\u001b[38;5;241m.\u001b[39mpi, \u001b[38;5;241m0.1\u001b[39m)\n\u001b[1;32m      3\u001b[0m y1 \u001b[38;5;241m=\u001b[39m np\u001b[38;5;241m.\u001b[39msin(x)\n\u001b[1;32m      4\u001b[0m y2 \u001b[38;5;241m=\u001b[39m np\u001b[38;5;241m.\u001b[39mcos(x)\n",
      "\u001b[0;31mNameError\u001b[0m: name 'np' is not defined"
     ]
    }
   ],
   "source": [
    "# Compute the x and y coordinates for the points to be plotted\n",
    "x = np.arange(0, 3 * np.pi, 0.1)\n",
    "y1 = np.sin(x)\n",
    "y2 = np.cos(x)\n",
    "z = np.exp(x)\n",
    "\n",
    "# Plot the points using matplotlib\n",
    "plt.figure(dpi=100, figsize=(6, 4))\n",
    "plt.subplot(211)\n",
    "plt.plot(x, y1, label = 'sin(x)')\n",
    "plt.plot(x, y2, label = 'cos(x)')\n",
    "plt.xlabel('x')\n",
    "plt.ylabel('y')\n",
    "plt.legend()\n",
    "plt.subplot(212)\n",
    "plt.plot(x,z)\n",
    "plt.xlabel('x')\n",
    "plt.ylabel('y')\n",
    "plt.show()"
   ]
  },
  {
   "cell_type": "code",
   "execution_count": null,
   "metadata": {},
   "outputs": [],
   "source": []
  }
 ],
 "metadata": {
  "colab": {
   "collapsed_sections": [],
   "name": "Lab-1-Intro-to-Python.ipynb",
   "provenance": []
  },
  "kernelspec": {
   "display_name": "Python 3 (ipykernel)",
   "language": "python",
   "name": "python3"
  },
  "language_info": {
   "codemirror_mode": {
    "name": "ipython",
    "version": 3
   },
   "file_extension": ".py",
   "mimetype": "text/x-python",
   "name": "python",
   "nbconvert_exporter": "python",
   "pygments_lexer": "ipython3",
   "version": "3.10.14"
  }
 },
 "nbformat": 4,
 "nbformat_minor": 4
}
