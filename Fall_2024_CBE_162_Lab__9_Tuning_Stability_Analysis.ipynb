{
  "cells": [
    {
      "cell_type": "markdown",
      "id": "0eb9cdb4",
      "metadata": {
        "id": "0eb9cdb4"
      },
      "source": [
        "# Fall 2024 CBE 162 Lab 9: Tuning and Stability Analysis"
      ]
    },
    {
      "cell_type": "markdown",
      "id": "47ecf458",
      "metadata": {
        "id": "47ecf458"
      },
      "source": [
        "## Objective\n",
        "In this lab, we will explore the tuning and stability of a closed-loop control system using **Direct Synthesis** tuning. Additionally, we will verify system stability using the **Routh Stability Criterion** and evaluate the system's performance through the **Integrated Square Error (ISE)** metric."
      ]
    },
    {
      "cell_type": "markdown",
      "id": "2ab9b03b",
      "metadata": {
        "id": "2ab9b03b"
      },
      "source": [
        "## System Description\n",
        "We will work with a first-order system with the following characteristics:\n",
        "- Gain ($K_s$)\n",
        "- Time constant ($\\tau_s$)\n",
        "- Dead time ($\\theta$)\n",
        "\n",
        "Components of the system include:\n",
        "- **Actuator**: Zeroth-order with gain $K_a = 1$\n",
        "- **Measurement device**: Zeroth-order with gain $K_m = 1$\n",
        "- **PID controller**: with transfer function:\n",
        "$$ G_c(s) = K_p \\left(1 + \\frac{1}{\\tau_I s} + \\tau_D s \\right) $$\n",
        "\n",
        "### Parameters\n",
        "Ensure the following initial values are used:\n",
        "- $K_s = 11.6$, $\\tau_s = 6$, $\\theta = 0.2$\n",
        "- $K_a = 1.0$, $K_m = 1.0$\n",
        "- PID parameters: $K_p = 1$, $\\tau_I = 1$, $\\tau_D = 1$"
      ]
    },
    {
      "cell_type": "markdown",
      "id": "0be64c5e",
      "metadata": {
        "id": "0be64c5e"
      },
      "source": [
        "## Problem 1: Building the Closed-Loop Transfer Function\n",
        "**Step 1**: Construct the transfer function for the closed-loop system.\n",
        "\n",
        "**Tasks**:\n",
        "1. Define the transfer function of the first-order system.\n",
        "2. Create the PID controller transfer function in terms of $K_p$, $\\tau_I$, and $\\tau_D$.\n",
        "3. Combine these using `signal.TransferFunction` to obtain the closed-loop transfer function.\n",
        "\n",
        "Implement the closed-loop transfer function that maps the controller setpoint to the output response.\n",
        "\n"
      ]
    },
    {
      "cell_type": "code",
      "execution_count": null,
      "id": "7258e48f",
      "metadata": {
        "id": "7258e48f"
      },
      "outputs": [],
      "source": [
        "# Define the transfer function components\n",
        "import matplotlib.pyplot as plt\n",
        "import numpy as np\n",
        "import scipy as scp\n",
        "from scipy import signal\n",
        "\n",
        "Ks = 11.6\n",
        "taus = 6\n",
        "theta = 0.20\n",
        "\n",
        "Ka = 1.0\n",
        "Km = 1.0\n",
        "\n",
        "Kp = 1\n",
        "tauI = 1\n",
        "tauD = 1\n",
        "\n",
        "# Your transfer function code here\n"
      ]
    },
    {
      "cell_type": "markdown",
      "id": "e0668a9f",
      "metadata": {
        "id": "e0668a9f"
      },
      "source": [
        "## Problem 2: Applying Direct Synthesis Tuning\n",
        "**Objective**: Use the **Direct Synthesis tuning** method to set PID parameters.\n",
        "\n",
        "**Tasks**:\n",
        "1. Calculate the desired closed-loop transfer function based on a specified target time constant.\n",
        "2. Adjust $K_p$, $\\tau_I$, and $\\tau_D$ to match the Direct Synthesis method.\n",
        "3. Plot the system response from $t=0$ to $t=36$ seconds.\n",
        "\n",
        "**Questions**:\n",
        "- How does Direct Synthesis tuning compare to the previous controller in terms of stability?\n",
        "- Document any instability observed, and note changes that stabilize the response.\n",
        "Write your answer as a comment at the end of your code."
      ]
    },
    {
      "cell_type": "code",
      "execution_count": null,
      "id": "fbf8ee18",
      "metadata": {
        "id": "fbf8ee18"
      },
      "outputs": [],
      "source": [
        "# Direct Synthesis Tuning implementation\n",
        "# Specify the desired time constant here\n",
        "desired_time_constant = 5  # Modify as needed\n",
        "\n",
        "# Your Direct Synthesis tuning code here\n"
      ]
    },
    {
      "cell_type": "markdown",
      "id": "6c47dd36",
      "metadata": {
        "id": "6c47dd36"
      },
      "source": [
        "## Problem 3: Stability Verification using the Routh Stability Criterion\n",
        "**Objective**: Verify system stability by applying the **Routh Stability Criterion** to the characteristic equation.\n",
        "\n",
        "**Tasks**:\n",
        "\n",
        "1. Apply the Routh Stability Criterion to determine stability.Use numpy arrays for this task.\n",
        "\n",
        "\n"
      ]
    },
    {
      "cell_type": "code",
      "execution_count": null,
      "id": "4ca21697",
      "metadata": {
        "id": "4ca21697"
      },
      "outputs": [],
      "source": [
        "# Routh Stability Criterion\n"
      ]
    },
    {
      "cell_type": "markdown",
      "id": "68f68582",
      "metadata": {
        "id": "68f68582"
      },
      "source": [
        "## Problem 4: Performance Evaluation using Integrated Square Error (ISE)\n",
        "**Objective**: Evaluate the system's response to a step input by calculating the Integrated Square Error (ISE).\n",
        "\n",
        "**Tasks**:\n",
        "1. Simulate a step response for the closed-loop system.\n",
        "2. Calculate ISE as a performance metric for various parameter settings.\n",
        "$$\n",
        "ISE = \\int_0^T e(t)^2 \\, dt\n",
        "$$\n",
        "\n",
        "**Instructions**:\n",
        "- Integrate the squared error over time to obtain the ISE. Compare the ISE of the two controllers discussed, and evaluate which you would choose for the system.\n"
      ]
    },
    {
      "cell_type": "code",
      "execution_count": null,
      "id": "21ece35c",
      "metadata": {
        "id": "21ece35c"
      },
      "outputs": [],
      "source": [
        "# Step response and ISE calculation\n",
        "\n",
        "def calculate_ise(response, setpoint):\n",
        "    error = response - setpoint\n",
        "    ise = np.sum(error**2)\n",
        "    return ise\n",
        "\n",
        "# Run step response and calculate ISE\n",
        "# Your code here\n"
      ]
    },
    {
      "cell_type": "markdown",
      "id": "e8eb1216",
      "metadata": {
        "id": "e8eb1216"
      },
      "source": [
        "## Conclusion\n",
        "Summarize findings related to Direct Synthesis tuning, stability verification via Routh, and performance evaluation through ISE.\n",
        "- How effective was the Routh criterion in predicting stability?\n",
        "- How did the ISE metric inform the tuning process and performance evaluation?\n",
        "\n"
      ]
    },
    {
      "cell_type": "code",
      "source": [],
      "metadata": {
        "id": "n-XLhh1zhr9p"
      },
      "id": "n-XLhh1zhr9p",
      "execution_count": null,
      "outputs": []
    }
  ],
  "metadata": {
    "colab": {
      "provenance": []
    }
  },
  "nbformat": 4,
  "nbformat_minor": 5
}