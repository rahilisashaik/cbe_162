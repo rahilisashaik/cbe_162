{
  "cells": [
    {
      "cell_type": "markdown",
      "id": "3c3f369c",
      "metadata": {
        "id": "3c3f369c"
      },
      "source": [
        "# CBE 162 Fall 2024 Lab 10: IMC and Feedforward Control\n",
        "\n",
        "### Objective:\n",
        "This notebook explores the design and analysis of Internal Model Control (IMC) and feedforward controllers:\n",
        "1. Designing IMC controllers for systems with and without time delay.\n",
        "2. Analyzing the effect of feedforward control on disturbance rejection and setpoint tracking.\n"
      ]
    },
    {
      "cell_type": "markdown",
      "id": "86738679",
      "metadata": {
        "id": "86738679"
      },
      "source": [
        "## Problem 1: IMC Design with Time Delay Approximations\n",
        "\n",
        "### Subquestions:\n",
        "1. Consider the process transfer function:\n",
        "\\\n",
        "[$$\n",
        "G(s) = \\frac{K}{(2s+1)(4s+1)} e^{-\\theta s}\n",
        "$$\\]\n",
        "- Process parameters: \\( K = 1.0 \\), \\( θ = 1.0 \\).\n",
        "\n",
        "   (a) Design an IMC controller, Find the equivalent Gc\n",
        "and cast your controller in PID form with a filter.\n",
        "     - Case 1: Ignore the time delay. Simulate the closed-loop response for a unit step change in set point upto t=20\n",
        "     "
      ]
    },
    {
      "cell_type": "code",
      "execution_count": null,
      "id": "11a823e8",
      "metadata": {
        "id": "11a823e8"
      },
      "outputs": [],
      "source": [
        "import numpy as np\n",
        "import matplotlib.pyplot as plt\n",
        "from scipy.signal import TransferFunction, step\n",
        "\n",
        "# Define process transfer functions\n"
      ]
    },
    {
      "cell_type": "markdown",
      "source": [
        "- Case 2: Use a first-order Padé approximation for the time delay.Simulate the closed-loop response for a unit step change in set point upto t=20.\n",
        "\n",
        "   "
      ],
      "metadata": {
        "id": "rFKv5t8pCxHx"
      },
      "id": "rFKv5t8pCxHx"
    },
    {
      "cell_type": "code",
      "source": [],
      "metadata": {
        "id": "4cI7HOoNCz2r"
      },
      "id": "4cI7HOoNCz2r",
      "execution_count": null,
      "outputs": []
    },
    {
      "cell_type": "markdown",
      "source": [
        "b) Simulate the closed-loop response for a unit step change in set point for \\( $\\tau_c$ = 2.0 \\), \\( $\\tau_c$ = 5.0 \\),and \\( $\\tau_c$ = 0.5 \\) till t=20. Analyze and compare the results."
      ],
      "metadata": {
        "id": "3a2rGrW4C0jZ"
      },
      "id": "3a2rGrW4C0jZ"
    },
    {
      "cell_type": "code",
      "source": [],
      "metadata": {
        "id": "f2FNIzrDDHQi"
      },
      "id": "f2FNIzrDDHQi",
      "execution_count": null,
      "outputs": []
    },
    {
      "cell_type": "markdown",
      "id": "210a31e1",
      "metadata": {
        "id": "210a31e1"
      },
      "source": [
        "## Problem 2: Feedforward Control Design and Analysis\n",
        "\n",
        "### Subquestions:\n",
        "1. Given the process:\n",
        "\\[$$\n",
        "G_p = \\frac{4(2s+1)}{2s^2+6s+1}, \\quad G_v = \\frac{4}{s+1}, \\quad G_d = \\frac{3}{6s+1}\n",
        "]$$\n",
        "- Design a feedforward controller \\($ G_f$ \\):\n",
        "\n",
        "\n",
        "Design a feedback controller for this system (IMC) for this system.\n",
        "2. Simulate a unit step in set point change given to the system, until t=42, with zero disturbance. At t=42, a unit step change is made to the disturbance. Simulate the response until t=84 :\n",
        "   \n",
        "   "
      ]
    },
    {
      "cell_type": "code",
      "execution_count": null,
      "id": "c7f7e60d",
      "metadata": {
        "id": "c7f7e60d"
      },
      "outputs": [],
      "source": [
        "\n"
      ]
    },
    {
      "cell_type": "markdown",
      "source": [
        "Case 1: With feedforward control and feedback control.\n",
        "\n"
      ],
      "metadata": {
        "id": "zFqMyfQ3EZrz"
      },
      "id": "zFqMyfQ3EZrz"
    },
    {
      "cell_type": "code",
      "source": [],
      "metadata": {
        "id": "kUFebf6QEev4"
      },
      "id": "kUFebf6QEev4",
      "execution_count": null,
      "outputs": []
    },
    {
      "cell_type": "markdown",
      "source": [
        "Case 2: With only feedback control."
      ],
      "metadata": {
        "id": "Tb7io4jKFlLK"
      },
      "id": "Tb7io4jKFlLK"
    },
    {
      "cell_type": "code",
      "source": [],
      "metadata": {
        "id": "SoV_RqzXFupD"
      },
      "id": "SoV_RqzXFupD",
      "execution_count": null,
      "outputs": []
    },
    {
      "cell_type": "markdown",
      "source": [
        "Analyze and compare the response in each case. Does the presence of a feedforward controller improve the response?"
      ],
      "metadata": {
        "id": "fQhzhuld_M6A"
      },
      "id": "fQhzhuld_M6A"
    },
    {
      "cell_type": "code",
      "source": [],
      "metadata": {
        "id": "feorgqug_geb"
      },
      "id": "feorgqug_geb",
      "execution_count": null,
      "outputs": []
    }
  ],
  "metadata": {
    "colab": {
      "provenance": []
    },
    "language_info": {
      "name": "python"
    },
    "kernelspec": {
      "name": "python3",
      "display_name": "Python 3"
    }
  },
  "nbformat": 4,
  "nbformat_minor": 5
}