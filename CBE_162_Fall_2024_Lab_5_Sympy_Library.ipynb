{
  "cells": [
    {
      "cell_type": "markdown",
      "metadata": {
        "id": "Ip1_83y8Gm6D"
      },
      "source": [
        "# CBE 162 Fall 2024 Lab 5 Sympy Library\n",
        "\n",
        "**Note:** Lab 4 did not have any Jupyter/Colab notebook associated with it.\n",
        "\n",
        "This tutorial is taken from the SymPy [documentation](https://dynamics-and-control.readthedocs.io/en/latest/1_Dynamics/3_Linear_systems/Laplace%20transforms.html)\n",
        "\n",
        "Outline:\n",
        "* Laplace Transforms using SymPy\n",
        "* Inverse Laplace transforms using SymPy\n",
        "* Reproducing the standard Laplace Transform table\n",
        "* Partial fraction expansion"
      ]
    },
    {
      "cell_type": "markdown",
      "metadata": {
        "id": "Y1cNwZhDM_Gz"
      },
      "source": [
        "## Imports"
      ]
    },
    {
      "cell_type": "code",
      "execution_count": 3,
      "metadata": {
        "id": "RHd-ZM53NA-B"
      },
      "outputs": [],
      "source": [
        "# Import Libraries\n",
        "import numpy as np\n",
        "import matplotlib.pyplot as plt\n",
        "from scipy import integrate, signal\n",
        "import sympy"
      ]
    },
    {
      "cell_type": "markdown",
      "metadata": {
        "id": "roFTEdl5DNxY"
      },
      "source": [
        "## Define variables and constants in SymPy\n",
        "\n",
        "Define the variables and constants needed for $$f(t) = \\exp (-at)$$ as ``sympy.symbols``\n"
      ]
    },
    {
      "cell_type": "code",
      "execution_count": 4,
      "metadata": {
        "colab": {
          "base_uri": "https://localhost:8080/"
        },
        "id": "Pp3W3novDiO-",
        "outputId": "941d7706-4767-4773-e633-4f66ffb1911a"
      },
      "outputs": [
        {
          "name": "stdout",
          "output_type": "stream",
          "text": [
            "exp(-a*t)\n"
          ]
        }
      ],
      "source": [
        "t, s = sympy.symbols('t, s')\n",
        "a = sympy.symbols('a', real=True, positive=True)\n",
        "\n",
        "f = sympy.exp(-a*t)\n",
        "print(f)"
      ]
    },
    {
      "cell_type": "markdown",
      "metadata": {
        "id": "ZIQweDYmE1q7"
      },
      "source": [
        "Sympy provides a function called ``laplace_transform``. By default it will return conditions of convergence as well. Use this function to evaluate the laplace transform of $f(t)$"
      ]
    },
    {
      "cell_type": "code",
      "execution_count": 5,
      "metadata": {
        "colab": {
          "base_uri": "https://localhost:8080/"
        },
        "id": "7jIC7fpbESoK",
        "outputId": "79f6b4dc-0ff0-4da7-a372-a4a45ab2c8ab"
      },
      "outputs": [
        {
          "name": "stdout",
          "output_type": "stream",
          "text": [
            "(1/(a + s), -a, True)\n"
          ]
        }
      ],
      "source": [
        "F = sympy.laplace_transform(f, t, s)\n",
        "print(F)"
      ]
    },
    {
      "cell_type": "markdown",
      "metadata": {
        "id": "1L5gjwYGGhg3"
      },
      "source": [
        "The first output is the Laplace transform of the time-domain function, whereas the other two outputs have to do with convergence. If we only want the Laplace transform $F(s) = \\mathcal{L}[f(t)]$, we can add the argument ``noconds = True``."
      ]
    },
    {
      "cell_type": "code",
      "execution_count": 6,
      "metadata": {
        "colab": {
          "base_uri": "https://localhost:8080/"
        },
        "id": "DUKeMRPBF9cy",
        "outputId": "30540844-f8a7-47ce-8ae8-8eaa992ea2cc"
      },
      "outputs": [
        {
          "name": "stdout",
          "output_type": "stream",
          "text": [
            "1/(a + s)\n"
          ]
        }
      ],
      "source": [
        "F = sympy.laplace_transform(f, t, s, noconds=True)\n",
        "print(F)"
      ]
    },
    {
      "cell_type": "markdown",
      "metadata": {
        "id": "ZD11GacRG8u1"
      },
      "source": [
        "## Problem 1\n",
        "Define a function that takes $f(t)$ as an argument and returns $F(s)$ without the convergence conditions."
      ]
    },
    {
      "cell_type": "code",
      "execution_count": 14,
      "metadata": {
        "id": "-Mjf2CnuG5Sn"
      },
      "outputs": [
        {
          "name": "stdout",
          "output_type": "stream",
          "text": [
            "1/(a + s)\n"
          ]
        }
      ],
      "source": [
        "def laplace_transform(f, t, s):\n",
        "    return sympy.laplace_transform(f, t, s, noconds=True)\n",
        "\n",
        "print(laplace_transform(f, t, s))"
      ]
    },
    {
      "cell_type": "markdown",
      "metadata": {
        "id": "_UV5SXAKH-fY"
      },
      "source": [
        "## Problem 2\n",
        "Define a function that takes $F(s)$ as an argument and returns $f(t)$ without the convergence conditions."
      ]
    },
    {
      "cell_type": "code",
      "execution_count": 29,
      "metadata": {
        "id": "0c7n2x_KHag2"
      },
      "outputs": [],
      "source": [
        "def inverse_laplace_transform(F, s, t):\n",
        "    return sympy.inverse_laplace_transform(F, s, t, noconds=True)\n",
        "\n",
        "print(inverse_laplace_transform(F, s, t))"
      ]
    },
    {
      "cell_type": "markdown",
      "metadata": {
        "id": "RGu38gCTIkCO"
      },
      "source": [
        "The ``Heaviside(t)`` is the step function. Essentially, it guarantees that for $t<0$, $f(t) = 0$. This makes sense, since the Laplace transform integral was defined from 0 to infinity, so it would not make sense to obtain any $f(t)$ for $t<0$."
      ]
    },
    {
      "cell_type": "code",
      "execution_count": 30,
      "metadata": {
        "colab": {
          "base_uri": "https://localhost:8080/",
          "height": 313
        },
        "id": "VQL6zjjLIPRy",
        "outputId": "f7576d65-dcaf-4842-90b7-da712ebac112"
      },
      "outputs": [
        {
          "data": {
            "image/png": "[encoded data removed]",
            "text/plain": [
              "<Figure size 640x480 with 1 Axes>"
            ]
          },
          "metadata": {},
          "output_type": "display_data"
        },
        {
          "data": {
            "text/plain": [
              "<sympy.plotting.backends.matplotlibbackend.matplotlib.MatplotlibBackend at 0x1508bd870>"
            ]
          },
          "execution_count": 30,
          "metadata": {},
          "output_type": "execute_result"
        }
      ],
      "source": [
        "sympy.plot(sympy.Heaviside(t))"
      ]
    },
    {
      "cell_type": "markdown",
      "metadata": {
        "id": "ifmFJtUyJ0jA"
      },
      "source": [
        "## Problem 3\n",
        "By looping through a list, reproduce the standard Laplace transform table. That is, obtain the laplace transform for:\n",
        "$$\\left\\{ 1, \\quad t, \\quad e^{-at}, \\quad te^{-at}, \\quad t^2 e^{-at}, \\quad  \\sin(\\omega t), \\quad \\cos (\\omega t), \\quad 1-e^{-at}, \\quad e^{-at} \\sin(\\omega t), \\quad  e^{-at} \\cos(\\omega t) \\right\\},$$\n",
        "where $\\omega \\in \\mathbb{R}$"
      ]
    },
    {
      "cell_type": "code",
      "execution_count": 32,
      "metadata": {
        "id": "KW_obAGiIq_c"
      },
      "outputs": [],
      "source": [
        "t, s, a, omega = sympy.symbols('t s a omega')\n",
        "\n",
        "functions = [\n",
        "    1,\n",
        "    t,\n",
        "    t**2,\n",
        "    sympy.exp(-a * t),\n",
        "    t * sympy.exp(-a * t),\n",
        "    t**2 * sympy.exp(-a * t),\n",
        "    sympy.sin(omega * t),\n",
        "    sympy.cos(omega * t),\n",
        "    1 - sympy.exp(-a * t),\n",
        "    sympy.exp(-a * t) * sympy.sin(omega * t),\n",
        "    sympy.exp(-a * t) * sympy.cos(omega * t)\n",
        "]"
      ]
    },
    {
      "cell_type": "code",
      "execution_count": 36,
      "metadata": {},
      "outputs": [
        {
          "name": "stdout",
          "output_type": "stream",
          "text": [
            "Laplace Transform of 1 : 1\n",
            "─\n",
            "s\n",
            "Laplace Transform of t : 1 \n",
            "──\n",
            " 2\n",
            "s \n",
            "Laplace Transform of  2\n",
            "t  : 2 \n",
            "──\n",
            " 3\n",
            "s \n",
            "Laplace Transform of  -a⋅t\n",
            "ℯ     :   1  \n",
            "─────\n",
            "a + s\n",
            "Laplace Transform of    -a⋅t\n",
            "t⋅ℯ     :    1    \n",
            "────────\n",
            "       2\n",
            "(a + s) \n",
            "Laplace Transform of  2  -a⋅t\n",
            "t ⋅ℯ     :    2    \n",
            "────────\n",
            "       3\n",
            "(a + s) \n",
            "Laplace Transform of sin(ω⋅t) :    ω   \n",
            "───────\n",
            " 2    2\n",
            "ω  + s \n",
            "Laplace Transform of cos(ω⋅t) :    s   \n",
            "───────\n",
            " 2    2\n",
            "ω  + s \n",
            "Laplace Transform of      -a⋅t\n",
            "1 - ℯ     :     1     1\n",
            "- ───── + ─\n",
            "  a + s   s\n",
            "Laplace Transform of  -a⋅t         \n",
            "ℯ    ⋅sin(ω⋅t) :       ω      \n",
            "─────────────\n",
            " 2          2\n",
            "ω  + (a + s) \n",
            "Laplace Transform of  -a⋅t         \n",
            "ℯ    ⋅cos(ω⋅t) :     a + s    \n",
            "─────────────\n",
            " 2          2\n",
            "ω  + (a + s) \n"
          ]
        }
      ],
      "source": [
        "laplace_transforms = []\n",
        "for f in functions:\n",
        "    F_s = sympy.laplace_transform(f, t, s, noconds=True)\n",
        "    laplace_transforms.append((f, F_s))\n",
        "\n",
        "# Display the original functions and their Laplace transforms\n",
        "for f, F_s in laplace_transforms:\n",
        "    print(f\"Laplace Transform of {sympy.pretty(f)} : {sympy.pretty(F_s)}\")\n"
      ]
    },
    {
      "cell_type": "markdown",
      "metadata": {
        "id": "Pl-BA3InLtgK"
      },
      "source": [
        "SymPy can also perform partial fraction expansion. Let's try expanding\n",
        "$$F(s) = \\frac{(s+1)(s+2)(s+3)}{(s+4)(s+5)(s+6)}$$\n",
        "using ``F.apart(s)``."
      ]
    },
    {
      "cell_type": "code",
      "execution_count": 43,
      "metadata": {
        "id": "uS5NvA11LZH_"
      },
      "outputs": [
        {
          "name": "stdout",
          "output_type": "stream",
          "text": [
            "1 - 30/(s + 6) + 24/(s + 5) - 3/(s + 4)\n"
          ]
        }
      ],
      "source": [
        "s = sympy.symbols('s')\n",
        "\n",
        "F = ((s + 1) * (s + 2) * (s + 3)) / ((s + 4) * (s + 5) * (s + 6))\n",
        "\n",
        "print(sympy.apart(F))\n"
      ]
    },
    {
      "cell_type": "code",
      "execution_count": null,
      "metadata": {
        "id": "-RuV0YZYLkLO"
      },
      "outputs": [],
      "source": []
    }
  ],
  "metadata": {
    "colab": {
      "provenance": []
    },
    "kernelspec": {
      "display_name": "Python 3",
      "name": "python3"
    },
    "language_info": {
      "codemirror_mode": {
        "name": "ipython",
        "version": 3
      },
      "file_extension": ".py",
      "mimetype": "text/x-python",
      "name": "python",
      "nbconvert_exporter": "python",
      "pygments_lexer": "ipython3",
      "version": "3.10.14"
    }
  },
  "nbformat": 4,
  "nbformat_minor": 0
}
